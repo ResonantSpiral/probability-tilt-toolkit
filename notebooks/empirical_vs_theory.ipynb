{
 "cells": [
  {
   "cell_type": "markdown",
   "metadata": {},
   "source": [
    "# Empirical vs. Theory",
    "\n",
    "Plot switch/stick win rates." 
   ]
  },
  {
   "cell_type": "code",
   "execution_count": null,
   "metadata": {},
   "outputs": [],
   "source": [
    "import pandas as pd\n",
    "import matplotlib.pyplot as plt\n",
    "from probability_tilt_toolkit import summary_df\n",
    "df = summary_df()\n",
    "df.pivot('n_doors', 'strategy', 'win_rate').plot.bar()"
   ]
  }
 ],
 "metadata": {
  "kernelspec": {
   "display_name": "Python 3",
   "language": "python",
   "name": "python3"
  },
  "language_info": {
   "name": "python",
   "version": "3.x"
  }
 },
 "nbformat": 4,
 "nbformat_minor": 5
}
